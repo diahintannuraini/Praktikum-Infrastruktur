{
  "cells": [
    {
      "cell_type": "markdown",
      "metadata": {
        "id": "-cHJ2dtNcwLd"
      },
      "source": [
        "# **Nama : Diah Intan Nuraini**\n",
        "# **NIM : 2311110046**\n"
      ]
    },
    {
      "cell_type": "markdown",
      "metadata": {
        "id": "xQZ7bhalc7Rf"
      },
      "source": [
        "## **Soal 1: Memecahkan Masalah Unik dengan Loop dan If-Else**"
      ]
    },
    {
      "cell_type": "markdown",
      "metadata": {
        "id": "9utFWNvFe5n7"
      },
      "source": [
        "Masalah unik di soal 1 adalah menghasilkan pola angka berbentuk segitiga, di mana setiap baris menampilkan bilangan prima yang bertambah seiring bertambahnya jumlah baris. Setiap angka dalam pola tersebut adalah hasil dari penjumlahan bilangan prima sebelumnya."
      ]
    },
    {
      "cell_type": "code",
      "execution_count": null,
      "metadata": {
        "colab": {
          "base_uri": "https://localhost:8080/"
        },
        "id": "GxaxWCOvZYvQ",
        "outputId": "7de91880-ddc8-4bb3-843d-7dd07db59ce7"
      },
      "outputs": [
        {
          "name": "stdout",
          "output_type": "stream",
          "text": [
            "2\n",
            "3 5\n",
            "7 11 13\n",
            "17 19 23 29\n",
            "31 37 41 43 47\n"
          ]
        }
      ],
      "source": [
        "def is_prime(num):\n",
        "    if num < 2:\n",
        "        return False\n",
        "    for i in range(2, int(num ** 0.5) + 1):\n",
        "        if num % i == 0:\n",
        "            return False\n",
        "    return True\n",
        "\n",
        "def generate_prime_pattern(rows):\n",
        "    primes = []\n",
        "    num = 1\n",
        "    while len(primes) < (rows * (rows + 1)) // 2:\n",
        "        if is_prime(num):\n",
        "            primes.append(num)\n",
        "        num += 1\n",
        "\n",
        "    index = 0\n",
        "    for row in range(1, rows + 1):\n",
        "        print(\" \".join(map(str, primes[index:index + row])))\n",
        "        index += row\n",
        "\n",
        "generate_prime_pattern(5)\n"
      ]
    },
    {
      "cell_type": "markdown",
      "metadata": {
        "id": "i85xsJJApMz4"
      },
      "source": [
        "Kesimpulan: Soal ini menguji pemahaman tentang bilangan prima dan penggunaan loop untuk menghasilkan pola berbentuk segitiga. Pola tersebut terdiri dari bilangan prima, di mana jumlah angka pada setiap baris bertambah satu. Ini mengajarkan mahasiswa bagaimana mendeteksi bilangan prima dan menampilkannya secara terstruktur."
      ]
    },
    {
      "cell_type": "markdown",
      "metadata": {
        "id": "MfCzUtEHfOIz"
      },
      "source": [
        "## **Soal 2: Membuat Fungsi dengan Syarat Spesifik**\n",
        "\n",
        "Buatlah sebuah fungsi yang menerima dua input berupa list angka. Fungsi ini harus mengembalikan sebuah list baru yang berisi elemen dari dua list input yang memiliki indeks ganjil. List baru tersebut juga harus diurutkan secara menurun berdasarkan nilai elemen."
      ]
    },
    {
      "cell_type": "code",
      "execution_count": null,
      "metadata": {
        "colab": {
          "base_uri": "https://localhost:8080/"
        },
        "id": "0R5-MvyJfP0h",
        "outputId": "7e5d3bf9-5288-4969-ed87-7e766dd577ad"
      },
      "outputs": [
        {
          "name": "stdout",
          "output_type": "stream",
          "text": [
            "[40, 35, 20, 15]\n"
          ]
        }
      ],
      "source": [
        "def odd_index_elements(list1, list2):\n",
        "    result = [list1[i] for i in range(len(list1)) if i % 2 == 1]\n",
        "    result += [list2[i] for i in range(len(list2)) if i % 2 == 1]\n",
        "    return sorted(result, reverse=True)\n",
        "\n",
        "# Contoh penggunaan\n",
        "list1 = [10, 20, 30, 40]\n",
        "list2 = [5, 15, 25, 35]\n",
        "print(odd_index_elements(list1, list2))\n"
      ]
    },
    {
      "cell_type": "markdown",
      "metadata": {
        "id": "w91_IcfepRJu"
      },
      "source": [
        "Kesimpulan: Soal ini menguji kemampuan dalam manipulasi list, penggunaan indeks ganjil, dan pengurutan data. Mahasiswa harus dapat menggabungkan elemen dari dua list, memilih elemen pada indeks ganjil, lalu mengurutkannya secara menurun. Ini memperkenalkan konsep filterisasi dan pengolahan data secara spesifik pada list."
      ]
    },
    {
      "cell_type": "markdown",
      "metadata": {
        "id": "QmVQWgjQf3SR"
      },
      "source": [
        "## **Soal 3: Exception Handling dalam Konteks Nyata**\n",
        "\n",
        "Buat sebuah program untuk mensimulasikan transaksi ATM. Program harus:\n",
        "1. Meminta pengguna memasukkan PIN (dibatasi 3 kali percobaan).\n",
        "2. Setelah PIN benar, meminta jumlah penarikan.\n",
        "3. Jika saldo kurang dari jumlah yang ditarik, munculkan pesan kesalahan.\n",
        "4. Jika penarikan berhasil, tampilkan saldo akhir.\n"
      ]
    },
    {
      "cell_type": "code",
      "execution_count": null,
      "metadata": {
        "colab": {
          "base_uri": "https://localhost:8080/"
        },
        "id": "pNe7qQITf0Af",
        "outputId": "e116b3ad-cd30-4277-f94d-007c9b2e167b"
      },
      "outputs": [
        {
          "name": "stdout",
          "output_type": "stream",
          "text": [
            "Masukkan PIN Anda: 1234\n",
            "Masukkan jumlah penarikan: 2000\n",
            "Saldo tidak mencukupi.\n"
          ]
        }
      ],
      "source": [
        "def atm_simulation():\n",
        "    correct_pin = \"1234\"\n",
        "    attempts = 3\n",
        "    balance = 1000\n",
        "\n",
        "    while attempts > 0:\n",
        "        pin = input(\"Masukkan PIN Anda: \")\n",
        "        if pin == correct_pin:\n",
        "            try:\n",
        "                withdrawal = int(input(\"Masukkan jumlah penarikan: \"))\n",
        "                if withdrawal > balance:\n",
        "                    print(\"Saldo tidak mencukupi.\")\n",
        "                else:\n",
        "                    balance -= withdrawal\n",
        "                    print(f\"Penarikan berhasil. Saldo akhir: {balance}\")\n",
        "            except ValueError:\n",
        "                print(\"Masukkan jumlah yang valid.\")\n",
        "            break\n",
        "        else:\n",
        "            attempts -= 1\n",
        "            print(f\"PIN salah. Sisa percobaan: {attempts}\")\n",
        "\n",
        "    if attempts == 0:\n",
        "        print(\"Anda telah menghabiskan semua percobaan.\")\n",
        "5\n",
        "atm_simulation()\n"
      ]
    },
    {
      "cell_type": "markdown",
      "metadata": {
        "id": "sBuqNgkQpbiy"
      },
      "source": [
        "Kesimpulan: Soal ini melibatkan exception handling dalam skenario simulasi ATM. Mahasiswa diuji untuk membuat program yang menangani beberapa percobaan input (PIN), serta memproses transaksi seperti penarikan saldo dengan kondisi khusus (saldo tidak mencukupi). Ini memperkuat pemahaman tentang validasi input dan penanganan kesalahan."
      ]
    },
    {
      "cell_type": "markdown",
      "metadata": {
        "id": "Pf9blrKPinRn"
      },
      "source": [
        "## **Soal 4: Studi Kasus Pengelolaan Data**\n",
        "\n",
        "Anda diberikan file CSV berisi data nilai ujian mahasiswa. Tugas Anda adalah menulis sebuah program yang:\n",
        "1. Membaca file CSV dan menyimpan datanya ke dalam dictionary.\n",
        "2. Menghitung rata-rata nilai tiap mahasiswa.\n",
        "3. Menampilkan mahasiswa dengan nilai tertinggi dan terendah.\n"
      ]
    },
    {
      "cell_type": "code",
      "execution_count": 1,
      "metadata": {},
      "outputs": [
        {
          "name": "stdout",
          "output_type": "stream",
          "text": [
            "    nilai\n",
            "0      98\n",
            "1      61\n",
            "2      51\n",
            "3      50\n",
            "4      97\n",
            "..    ...\n",
            "95     91\n",
            "96     86\n",
            "97     72\n",
            "98     61\n",
            "99     88\n",
            "\n",
            "[100 rows x 1 columns]\n"
          ]
        }
      ],
      "source": [
        "import pandas as pd  # Mengimpor pustaka pandas dengan alias pd\n",
        "\n",
        "# Membaca file CSV ke dalam DataFrame\n",
        "# Pastikan jalur file yang digunakan sudah benar dan file CSV tersedia di lokasi tersebut.\n",
        "df = pd.read_csv(r\"C:/Users/asus/Downloads/nilai.csv\")\n",
        "\n",
        "# Menampilkan DataFrame yang telah dibaca\n",
        "# DataFrame berisi data dari file CSV dan akan ditampilkan dalam bentuk tabel.\n",
        "print(df)"
      ]
    },
    {
      "cell_type": "code",
      "execution_count": 2,
      "metadata": {
        "colab": {
          "base_uri": "https://localhost:8080/"
        },
        "id": "UwgSgUriiyR8",
        "outputId": "b44a992d-647a-4636-88e8-f7b210a554b8"
      },
      "outputs": [
        {
          "name": "stdout",
          "output_type": "stream",
          "text": [
            "Rata-rata nilai mahasiswa: 73.02\n",
            "Mahasiswa dengan nilai tertinggi:\n",
            "    nilai\n",
            "75    100\n",
            "Mahasiswa dengan nilai terendah:\n",
            "   nilai\n",
            "3     50\n"
          ]
        }
      ],
      "source": [
        "# Menghitung rata-rata nilai\n",
        "rata_rata = df['nilai'].mean()\n",
        "print(f\"Rata-rata nilai mahasiswa: {rata_rata:.2f}\")\n",
        "\n",
        "# Mendapatkan nilai tertinggi dan terendah\n",
        "nilai_tertinggi = df['nilai'].max()\n",
        "nilai_terendah = df['nilai'].min()\n",
        "\n",
        "# Mendapatkan mahasiswa dengan nilai tertinggi dan terendah\n",
        "mahasiswa_tertinggi = df[df['nilai'] == nilai_tertinggi]\n",
        "mahasiswa_terendah = df[df['nilai'] == nilai_terendah]\n",
        "\n",
        "print(f\"Mahasiswa dengan nilai tertinggi:\\n{mahasiswa_tertinggi}\")\n",
        "print(f\"Mahasiswa dengan nilai terendah:\\n{mahasiswa_terendah}\")"
      ]
    },
    {
      "cell_type": "markdown",
      "metadata": {
        "id": "7AXgr1SJpkEq"
      },
      "source": [
        "Kesimpulan: Soal ini menguji kemampuan untuk bekerja dengan data dalam file CSV, mengelola data menggunakan dictionary, menghitung rata-rata, serta menampilkan nilai tertinggi dan terendah. Fokusnya pada pengelolaan file dan penerapan logika perhitungan dalam konteks data."
      ]
    },
    {
      "cell_type": "markdown",
      "metadata": {
        "id": "ZbdGhiVri3OI"
      },
      "source": [
        "## **Soal 5: Kombinasi Logika dan Kreativitas**\n",
        "\n",
        "Buatlah permainan sederhana menggunakan Python, di mana komputer akan memilih sebuah angka secara acak antara 1 hingga 100, dan pengguna harus menebak angka tersebut. Setiap tebakan yang salah akan memberikan petunjuk apakah angka yang ditebak lebih besar atau lebih kecil dari angka sebenarnya. Batasi jumlah percobaan menjadi 5 kali. Setelah permainan selesai, tampilkan apakah pemain menang atau kalah."
      ]
    },
    {
      "cell_type": "code",
      "execution_count": null,
      "metadata": {
        "colab": {
          "base_uri": "https://localhost:8080/"
        },
        "id": "1SKbw02Vi3q4",
        "outputId": "711b72d8-2108-474c-a568-a85d57d55da8"
      },
      "outputs": [
        {
          "name": "stdout",
          "output_type": "stream",
          "text": [
            "Tebak angka antara 1 dan 100: 3\n",
            "Tebakan Anda terlalu rendah.\n",
            "Tebak angka antara 1 dan 100: 4\n",
            "Tebakan Anda terlalu rendah.\n",
            "Tebak angka antara 1 dan 100: 5\n",
            "Tebakan Anda terlalu rendah.\n",
            "Tebak angka antara 1 dan 100: 7\n",
            "Tebakan Anda terlalu rendah.\n",
            "Tebak angka antara 1 dan 100: 8\n",
            "Tebakan Anda terlalu rendah.\n",
            "Anda kalah! Angka yang benar adalah 18.\n"
          ]
        }
      ],
      "source": [
        "import random\n",
        "\n",
        "def guessing_game():\n",
        "    number = random.randint(1, 100)\n",
        "    attempts = 5\n",
        "\n",
        "    while attempts > 0:\n",
        "        guess = int(input(\"Tebak angka antara 1 dan 100: \"))\n",
        "        if guess == number:\n",
        "            print(\"Selamat, Anda menang!\")\n",
        "            break\n",
        "        elif guess < number:\n",
        "            print(\"Tebakan Anda terlalu rendah.\")\n",
        "        else:\n",
        "            print(\"Tebakan Anda terlalu tinggi.\")\n",
        "        attempts -= 1\n",
        "\n",
        "    if attempts == 0:\n",
        "        print(f\"Anda kalah! Angka yang benar adalah {number}.\")\n",
        "\n",
        "guessing_game()\n"
      ]
    },
    {
      "cell_type": "markdown",
      "metadata": {
        "id": "X1rUhdCGjB_n"
      },
      "source": [
        "## **Soal 6: Rekursi yang Tidak Biasa**\n",
        "\n",
        "Buat fungsi rekursif yang menerima input bilangan bulat `n` dan menghasilkan urutan bilangan seperti berikut ini:\n",
        "```\n",
        "Input: n = 4\n",
        "Output: 1, 1, 2, 6, 24\n"
      ]
    },
    {
      "cell_type": "code",
      "execution_count": null,
      "metadata": {
        "colab": {
          "base_uri": "https://localhost:8080/"
        },
        "id": "6BLd8IVOjChu",
        "outputId": "3f453760-c598-4a10-a2dc-59c2eda6a9a6"
      },
      "outputs": [
        {
          "name": "stdout",
          "output_type": "stream",
          "text": [
            "[1, 1, 2, 6, 24]\n"
          ]
        }
      ],
      "source": [
        "def factorial(n):\n",
        "    if n == 0:\n",
        "        return 1\n",
        "    return n * factorial(n - 1)\n",
        "\n",
        "def factorial_sequence(n):\n",
        "    return [factorial(i) for i in range(n + 1)]\n",
        "\n",
        "print(factorial_sequence(4))\n"
      ]
    },
    {
      "cell_type": "markdown",
      "metadata": {
        "id": "YeDtn4Wvq1S7"
      },
      "source": [
        "Kesimpulan: Soal ini menguji kemampuan mahasiswa dalam memahami dan menerapkan rekursi melalui penghitungan faktorial. Program menghasilkan deret faktorial hingga angka tertentu menggunakan rekursi, sehingga meningkatkan pemahaman konsep rekursif dengan penerapan matematis."
      ]
    },
    {
      "cell_type": "markdown",
      "metadata": {
        "id": "FglzpnVUjHVx"
      },
      "source": [
        "## **Soal 7: Pemrograman dengan Algoritma Greedy**\n",
        "\n",
        "Buatlah program untuk memecahkan masalah \"minimum coin change\". Diberikan jumlah uang dan daftar nilai koin yang tersedia (misalnya, 1, 5, 10, 25), tentukan kombinasi minimum koin yang diperlukan untuk mencapai jumlah uang tersebut. Namun, program Anda harus bisa menangani koin-koin yang nilai dan jumlahnya ditentukan pengguna."
      ]
    },
    {
      "cell_type": "code",
      "execution_count": null,
      "metadata": {
        "colab": {
          "base_uri": "https://localhost:8080/"
        },
        "id": "B0ofX4bIjHxe",
        "outputId": "5940f295-a9d7-458d-bdc1-88b54d0ca900"
      },
      "outputs": [
        {
          "name": "stdout",
          "output_type": "stream",
          "text": [
            "[25, 25, 10, 1, 1, 1]\n"
          ]
        }
      ],
      "source": [
        "def min_coins_change(amount, coins):\n",
        "    coins.sort(reverse=True)\n",
        "    result = []\n",
        "    for coin in coins:\n",
        "        while amount >= coin:\n",
        "            amount -= coin\n",
        "            result.append(coin)\n",
        "    return result if amount == 0 else \"Tidak ada kombinasi koin yang dapat mencapai jumlah tersebut.\"\n",
        "\n",
        "# Contoh penggunaan\n",
        "amount = 63\n",
        "coins = [1, 5, 10, 25]\n",
        "print(min_coins_change(amount, coins))\n"
      ]
    },
    {
      "cell_type": "markdown",
      "metadata": {
        "id": "FqS3FYN5q4QG"
      },
      "source": [
        "Kesimpulan: Soal ini mengajarkan penerapan algoritma greedy untuk masalah perubahan koin minimum. Mahasiswa diminta membuat program yang dapat memilih kombinasi koin yang paling efisien untuk mencapai jumlah tertentu, memperkuat pemahaman tentang solusi optimisasi.\n",
        "\n"
      ]
    },
    {
      "cell_type": "markdown",
      "metadata": {
        "id": "FjirPLBCjlaK"
      },
      "source": [
        "## **Soal 8: Kombinasi String dan Manipulasi List**\n",
        "\n",
        "Buat sebuah program yang menerima string dari pengguna dan mengonversi string tersebut menjadi sebuah list berisi kata-kata terbalik. Misalnya:\n",
        "```\n",
        "Input: \"Saya suka Python\"\n",
        "Output: [\"ayaS\", \"akus\", \"nohtyP\"]\n"
      ]
    },
    {
      "cell_type": "code",
      "execution_count": null,
      "metadata": {
        "colab": {
          "base_uri": "https://localhost:8080/"
        },
        "id": "MEHApeXFjlxK",
        "outputId": "5b416cab-ae1e-4248-c68c-191c1217bd87"
      },
      "outputs": [
        {
          "name": "stdout",
          "output_type": "stream",
          "text": [
            "['ayaS', 'akus', 'nohtyP']\n"
          ]
        }
      ],
      "source": [
        "def reverse_words(input_string):\n",
        "    words = input_string.split()\n",
        "    reversed_words = [word[::-1] for word in words]\n",
        "    return reversed_words\n",
        "\n",
        "# Contoh penggunaan\n",
        "input_string = \"Saya suka Python\"\n",
        "print(reverse_words(input_string))\n"
      ]
    },
    {
      "cell_type": "markdown",
      "metadata": {
        "id": "eqSuifHzq61l"
      },
      "source": [
        "Kesimpulan: Soal ini menguji kemampuan manipulasi string dan list, dengan fokus pada pembalikan kata. Mahasiswa diminta untuk membalik setiap kata dalam string dan menghasilkan list kata yang terbalik. Ini mengasah logika string dan keterampilan dalam memanipulasi data berbasis teks."
      ]
    },
    {
      "cell_type": "markdown",
      "metadata": {
        "id": "v0XAT8lmj3Co"
      },
      "source": [
        "## **Soal 9: Konsep Class dan Object-Oriented Programming**\n",
        "\n",
        "Buat class bernama `Buku` yang memiliki atribut `judul`, `penulis`, dan `tahun_terbit`. Buat method dalam class untuk menampilkan informasi buku, serta method untuk menghitung usia buku berdasarkan tahun saat ini. Buatlah 3 objek dari class `Buku` dan tampilkan informasi serta usia masing-masing buku."
      ]
    },
    {
      "cell_type": "code",
      "execution_count": null,
      "metadata": {
        "colab": {
          "base_uri": "https://localhost:8080/"
        },
        "id": "FSi1fnmpj3Wk",
        "outputId": "7342513a-97d2-46ce-ccee-42321347fc18"
      },
      "outputs": [
        {
          "name": "stdout",
          "output_type": "stream",
          "text": [
            "Judul: Belajar Python, Penulis: John Doe, Tahun Terbit: 2020\n",
            "Usia buku: 4 tahun\n",
            "\n",
            "Judul: Data Science, Penulis: Jane Smith, Tahun Terbit: 2018\n",
            "Usia buku: 6 tahun\n",
            "\n",
            "Judul: Algoritma, Penulis: Alice Brown, Tahun Terbit: 2021\n",
            "Usia buku: 3 tahun\n",
            "\n"
          ]
        }
      ],
      "source": [
        "class Buku:\n",
        "    def __init__(self, judul, penulis, tahun_terbit):\n",
        "        self.judul = judul\n",
        "        self.penulis = penulis\n",
        "        self.tahun_terbit = tahun_terbit\n",
        "\n",
        "    def informasi_buku(self):\n",
        "        return f\"Judul: {self.judul}, Penulis: {self.penulis}, Tahun Terbit: {self.tahun_terbit}\"\n",
        "\n",
        "    def usia_buku(self):\n",
        "        from datetime import datetime\n",
        "        return datetime.now().year - self.tahun_terbit\n",
        "\n",
        "buku1 = Buku(\"Belajar Python\", \"John Doe\", 2020)\n",
        "buku2 = Buku(\"Data Science\", \"Jane Smith\", 2018)\n",
        "buku3 = Buku(\"Algoritma\", \"Alice Brown\", 2021)\n",
        "\n",
        "for buku in [buku1, buku2, buku3]:\n",
        "    print(buku.informasi_buku())\n",
        "    print(f\"Usia buku: {buku.usia_buku()} tahun\\n\")\n"
      ]
    },
    {
      "cell_type": "markdown",
      "metadata": {
        "id": "2gCN3XzDq9gw"
      },
      "source": [
        "Kesimpulan: Soal ini memperkenalkan mahasiswa pada konsep OOP melalui pembuatan class, atribut, dan method. Dengan membuat class Buku, mahasiswa belajar bagaimana mendefinisikan objek, memanipulasi atribut, serta menggunakan method untuk menampilkan informasi dan melakukan perhitungan (usia buku)."
      ]
    },
    {
      "cell_type": "markdown",
      "metadata": {
        "id": "6HhAWJopkDWT"
      },
      "source": [
        "## **Soal 10: Algoritma dengan Persyaratan Logika Khusus**\n",
        "\n",
        "Buatlah program yang mengimplementasikan algoritma pencarian biner, namun dengan modifikasi: algoritma harus bisa mencari nilai di list yang hanya berisi angka genap, dan jika nilai yang dicari adalah angka ganjil, program harus menampilkan pesan bahwa nilai tersebut tidak bisa ditemukan."
      ]
    },
    {
      "cell_type": "code",
      "execution_count": null,
      "metadata": {
        "colab": {
          "base_uri": "https://localhost:8080/"
        },
        "id": "28UNqxTWkDqF",
        "outputId": "783b6ea5-d9aa-4bbb-a7b9-e9f6378d473b"
      },
      "outputs": [
        {
          "name": "stdout",
          "output_type": "stream",
          "text": [
            "Nilai tidak bisa ditemukan karena angka yang dicari adalah ganjil.\n"
          ]
        }
      ],
      "source": [
        "def binary_search(arr, target):\n",
        "    if target % 2 != 0:\n",
        "        return \"Nilai tidak bisa ditemukan karena angka yang dicari adalah ganjil.\"\n",
        "\n",
        "    left, right = 0, len(arr) - 1\n",
        "    while left <= right:\n",
        "        mid = (left + right) // 2\n",
        "        if arr[mid] == target:\n",
        "            return f\"Nilai {target} ditemukan pada indeks {mid}.\"\n",
        "        elif arr[mid] < target:\n",
        "            left = mid + 1\n",
        "        else:\n",
        "            right = mid - 1\n",
        "    return \"Nilai tidak ditemukan.\"\n",
        "\n",
        "# Contoh penggunaan\n",
        "arr = [2, 4, 6, 8, 10, 12, 14, 16, 18]\n",
        "target = 11\n",
        "print(binary_search(arr, target))\n"
      ]
    },
    {
      "cell_type": "markdown",
      "metadata": {
        "id": "s-dGfo_4rBJe"
      },
      "source": [
        "Kesimpulan: Soal ini mengajarkan implementasi algoritma pencarian biner dengan syarat tambahan, yaitu hanya mencari angka genap. Ini memperkuat pemahaman algoritma pencarian serta memaksa mahasiswa untuk berpikir lebih mendalam dalam menyaring data berdasarkan kondisi khusus."
      ]
    }
  ],
  "metadata": {
    "colab": {
      "provenance": []
    },
    "kernelspec": {
      "display_name": "Python 3",
      "name": "python3"
    },
    "language_info": {
      "codemirror_mode": {
        "name": "ipython",
        "version": 3
      },
      "file_extension": ".py",
      "mimetype": "text/x-python",
      "name": "python",
      "nbconvert_exporter": "python",
      "pygments_lexer": "ipython3",
      "version": "3.11.5"
    }
  },
  "nbformat": 4,
  "nbformat_minor": 0
}
